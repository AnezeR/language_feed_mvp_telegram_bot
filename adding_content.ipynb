{
 "cells": [
  {
   "cell_type": "code",
   "execution_count": 17,
   "metadata": {
    "collapsed": true
   },
   "outputs": [],
   "source": [
    "import os\n",
    "import re\n",
    "\n",
    "from config import Config\n",
    "from db import Database"
   ]
  },
  {
   "cell_type": "code",
   "execution_count": 18,
   "outputs": [],
   "source": [
    "config = Config()\n",
    "database = Database(user=config.mariadb_user,password=config.mariadb_password,database=config.mariadb_database)"
   ],
   "metadata": {
    "collapsed": false
   }
  },
  {
   "cell_type": "code",
   "execution_count": 19,
   "outputs": [],
   "source": [
    "def get_val_type(type_str) -> str:\n",
    "    if type_str in ('png', 'jpg', 'gif'):\n",
    "        return 'image'\n",
    "    return 'video'"
   ],
   "metadata": {
    "collapsed": false
   }
  },
  {
   "cell_type": "code",
   "execution_count": 20,
   "outputs": [],
   "source": [
    "def handle_one_item(item_path: str, content_type: str):\n",
    "    res = re.search(r'day_([0-9])_[0-9]\\.(.*)$', item_path)\n",
    "    database.add_content(content_type, content=item_path, day=res[1], val_type=get_val_type(res[2]))"
   ],
   "metadata": {
    "collapsed": false
   }
  },
  {
   "cell_type": "code",
   "execution_count": 21,
   "outputs": [],
   "source": [
    "def handle_content_type(content_type: str):\n",
    "    database.add_content_type(content_type, \"no\")\n",
    "    for filename in os.listdir(f'{config.current_content}/{content_type}'):\n",
    "        handle_one_item(f'{config.current_content}/{content_type}/{filename}', content_type)"
   ],
   "metadata": {
    "collapsed": false
   }
  },
  {
   "cell_type": "code",
   "execution_count": 22,
   "outputs": [],
   "source": [
    "def add_content_types():\n",
    "    for filename in os.listdir('content_types'):\n",
    "        handle_content_type(filename)"
   ],
   "metadata": {
    "collapsed": false
   }
  },
  {
   "cell_type": "code",
   "execution_count": 23,
   "outputs": [],
   "source": [
    "add_content_types()"
   ],
   "metadata": {
    "collapsed": false
   }
  },
  {
   "cell_type": "code",
   "execution_count": 24,
   "outputs": [],
   "source": [
    "database.close()"
   ],
   "metadata": {
    "collapsed": false
   }
  }
 ],
 "metadata": {
  "kernelspec": {
   "display_name": "Python 3",
   "language": "python",
   "name": "python3"
  },
  "language_info": {
   "codemirror_mode": {
    "name": "ipython",
    "version": 2
   },
   "file_extension": ".py",
   "mimetype": "text/x-python",
   "name": "python",
   "nbconvert_exporter": "python",
   "pygments_lexer": "ipython2",
   "version": "2.7.6"
  }
 },
 "nbformat": 4,
 "nbformat_minor": 0
}
